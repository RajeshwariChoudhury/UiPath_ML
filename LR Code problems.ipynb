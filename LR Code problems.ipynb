{
 "cells": [
  {
   "cell_type": "markdown",
   "id": "3f753f94",
   "metadata": {},
   "source": [
    "# Implementing Simple Linear Regression \n",
    "Write a Python code snippet using NumPy to implement simple linear regression. Use the following \n",
    "data: "
   ]
  },
  {
   "cell_type": "code",
   "execution_count": 1,
   "id": "73bd00ea",
   "metadata": {},
   "outputs": [
    {
     "name": "stdout",
     "output_type": "stream",
     "text": [
      "The value of Slope is: 0.6\n",
      "The value of  Intercept is: 2.2\n"
     ]
    }
   ],
   "source": [
    "import numpy as np\n",
    "\n",
    "x = np.array([1, 2, 3, 4, 5])\n",
    "y = np.array([2, 4, 5, 4, 5])\n",
    "\n",
    "mean_x = np.mean(x)\n",
    "mean_y = np.mean(y)\n",
    "\n",
    "numerator = np.sum((x - mean_x) * (y - mean_y))\n",
    "denominator = np.sum((x - mean_x) ** 2)\n",
    "\n",
    "m = numerator / denominator\n",
    "b = mean_y - (m * mean_x)\n",
    "\n",
    "print(\"The value of Slope is:\", m)\n",
    "print(\"The value of  Intercept is:\", b)"
   ]
  },
  {
   "cell_type": "markdown",
   "id": "de9b3fec",
   "metadata": {},
   "source": [
    "# Using Scikit-Learn for Linear Regression \n",
    "Using the scikit-learn library, write a Python code snippet to fit a linear regression model to the \n",
    "following data and predict the value of y when x = 6:"
   ]
  },
  {
   "cell_type": "code",
   "execution_count": 2,
   "id": "51078808",
   "metadata": {},
   "outputs": [
    {
     "name": "stdout",
     "output_type": "stream",
     "text": [
      "Predicted value for x = 6: [5.8]\n"
     ]
    }
   ],
   "source": [
    "import numpy as np\n",
    "from sklearn.linear_model import LinearRegression\n",
    "\n",
    "x = np.array([1, 2, 3, 4, 5]).reshape(-1, 1) \n",
    "y = np.array([2, 4, 5, 4, 5])\n",
    "\n",
    "model = LinearRegression()\n",
    "model.fit(x, y)\n",
    "\n",
    "x_new = np.array([[6]])\n",
    "y_pred = model.predict(x_new)\n",
    "\n",
    "print(\"Predicted value for x = 6:\", y_pred)"
   ]
  },
  {
   "cell_type": "code",
   "execution_count": null,
   "id": "dda1e242",
   "metadata": {},
   "outputs": [],
   "source": []
  }
 ],
 "metadata": {
  "kernelspec": {
   "display_name": "Python 3 (ipykernel)",
   "language": "python",
   "name": "python3"
  },
  "language_info": {
   "codemirror_mode": {
    "name": "ipython",
    "version": 3
   },
   "file_extension": ".py",
   "mimetype": "text/x-python",
   "name": "python",
   "nbconvert_exporter": "python",
   "pygments_lexer": "ipython3",
   "version": "3.10.9"
  }
 },
 "nbformat": 4,
 "nbformat_minor": 5
}
